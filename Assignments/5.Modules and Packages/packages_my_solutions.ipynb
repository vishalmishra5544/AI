{
 "cells": [
  {
   "cell_type": "markdown",
   "id": "92ad43b5",
   "metadata": {},
   "source": [
    "# Module 5: Modules and Packages Assignments\n",
    "## Lesson 5.1: Importing Modules\n",
    "### Assignment 1: Importing and Using Modules\n",
    "\n",
    "Import the `math` module and use it to calculate the square root of 25 and the sine of 90 degrees.\n"
   ]
  },
  {
   "cell_type": "code",
   "execution_count": 3,
   "id": "6b5907a8",
   "metadata": {},
   "outputs": [
    {
     "name": "stdout",
     "output_type": "stream",
     "text": [
      "5.0\n",
      "1.0\n"
     ]
    }
   ],
   "source": [
    "import math\n",
    "print(math.sqrt(25))\n",
    "print(math.sin(math.pi/2))"
   ]
  },
  {
   "cell_type": "markdown",
   "id": "acf7ad8a",
   "metadata": {},
   "source": [
    "\n",
    "### Assignment 2: Aliasing Modules\n",
    "\n",
    "Import the `datetime` module with an alias and use it to print the current date and time.\n"
   ]
  },
  {
   "cell_type": "code",
   "execution_count": 6,
   "id": "9ad97e65",
   "metadata": {},
   "outputs": [
    {
     "name": "stdout",
     "output_type": "stream",
     "text": [
      "2025-01-12 18:20:37.032821\n"
     ]
    }
   ],
   "source": [
    "import datetime as dt\n",
    "print(dt.datetime.now())"
   ]
  },
  {
   "cell_type": "markdown",
   "id": "afe1a3be",
   "metadata": {},
   "source": [
    "\n",
    "### Assignment 3: Importing Specific Functions\n",
    "\n",
    "Import the `randint` function from the `random` module and use it to generate a random integer between 1 and 100.\n"
   ]
  },
  {
   "cell_type": "code",
   "execution_count": 8,
   "id": "d42c1eca",
   "metadata": {},
   "outputs": [
    {
     "name": "stdout",
     "output_type": "stream",
     "text": [
      "7\n"
     ]
    }
   ],
   "source": [
    "from random import randint\n",
    "print(randint(1,10))"
   ]
  },
  {
   "cell_type": "markdown",
   "id": "878fa9a2",
   "metadata": {},
   "source": [
    "\n",
    "### Assignment 4: Importing Multiple Functions\n",
    "\n",
    "Import the `sqrt` and `pow` functions from the `math` module and use them to calculate the square root of 16 and 2 raised to the power of 3.\n"
   ]
  },
  {
   "cell_type": "code",
   "execution_count": 9,
   "id": "61489683",
   "metadata": {},
   "outputs": [
    {
     "name": "stdout",
     "output_type": "stream",
     "text": [
      "4.0\n",
      "8.0\n"
     ]
    }
   ],
   "source": [
    "from math import sqrt,pow\n",
    "print(sqrt(16))\n",
    "print(pow(2,3))"
   ]
  },
  {
   "cell_type": "markdown",
   "id": "8558f5a1",
   "metadata": {},
   "source": [
    "\n",
    "### Assignment 5: Handling Import Errors\n",
    "\n",
    "Write code that attempts to import a non-existent module and gracefully handles the import error by printing an error message.\n"
   ]
  },
  {
   "cell_type": "code",
   "execution_count": 10,
   "id": "a9880632",
   "metadata": {},
   "outputs": [
    {
     "name": "stdout",
     "output_type": "stream",
     "text": [
      "Error importing module: No module named 'non_existent_module'\n"
     ]
    }
   ],
   "source": [
    "try:\n",
    "    import non_existent_module\n",
    "except ImportError as e:\n",
    "    print(f\"Error importing module: {e}\")"
   ]
  },
  {
   "cell_type": "markdown",
   "id": "8f6b2347",
   "metadata": {},
   "source": [
    "\n",
    "## Lesson 5.2: Standard Library Overview\n",
    "### Assignment 6: Working with the `os` Module\n",
    "\n",
    "Use the `os` module to create a new directory, list the contents of the current directory, and remove the newly created directory.\n"
   ]
  },
  {
   "cell_type": "code",
   "execution_count": 14,
   "id": "a24a4829",
   "metadata": {},
   "outputs": [
    {
     "name": "stdout",
     "output_type": "stream",
     "text": [
      "['packagesquestion.ipynb', 'packagessolution.ipynb', 'tempdir']\n"
     ]
    }
   ],
   "source": [
    "import os\n",
    "os.mkdir(\"tempdir\",)\n",
    "print(os.listdir(\".\"))\n",
    "os.rmdir(\"tempdir\")"
   ]
  },
  {
   "cell_type": "markdown",
   "id": "9a63c436",
   "metadata": {},
   "source": [
    "\n",
    "### Assignment 7: Working with the `sys` Module\n",
    "\n",
    "Use the `sys` module to print the Python version currently in use and the command-line arguments passed to the script.\n"
   ]
  },
  {
   "cell_type": "code",
   "execution_count": 16,
   "id": "279f450e",
   "metadata": {},
   "outputs": [
    {
     "name": "stdout",
     "output_type": "stream",
     "text": [
      "3.12.4 | packaged by Anaconda, Inc. | (main, Jun 18 2024, 15:03:56) [MSC v.1929 64 bit (AMD64)]\n",
      "['c:\\\\Users\\\\lenovo\\\\anaconda3\\\\Lib\\\\site-packages\\\\ipykernel_launcher.py', '--f=c:\\\\Users\\\\lenovo\\\\AppData\\\\Roaming\\\\jupyter\\\\runtime\\\\kernel-v3cd0327aaefeac8fd241318fb183f6091609ce022.json']\n"
     ]
    }
   ],
   "source": [
    "import sys\n",
    "print(sys.version)\n",
    "print(sys.argv)"
   ]
  },
  {
   "cell_type": "markdown",
   "id": "eee29f75",
   "metadata": {},
   "source": [
    "\n",
    "### Assignment 8: Working with the `math` Module\n",
    "\n",
    "Use the `math` module to calculate the greatest common divisor (GCD) of two numbers and the factorial of a number.\n"
   ]
  },
  {
   "cell_type": "code",
   "execution_count": 18,
   "id": "5e437908",
   "metadata": {},
   "outputs": [
    {
     "name": "stdout",
     "output_type": "stream",
     "text": [
      "5\n",
      "720\n"
     ]
    }
   ],
   "source": [
    "import math\n",
    "print(math.gcd(5,25))\n",
    "print(math.factorial(6))"
   ]
  },
  {
   "cell_type": "markdown",
   "id": "ecceef5c",
   "metadata": {},
   "source": [
    "\n",
    "### Assignment 9: Working with the `datetime` Module\n",
    "\n",
    "Use the `datetime` module to print the current date, calculate the date 100 days from today, and determine the day of the week for a given date.\n"
   ]
  },
  {
   "cell_type": "code",
   "execution_count": 25,
   "id": "d9274959",
   "metadata": {},
   "outputs": [
    {
     "name": "stdout",
     "output_type": "stream",
     "text": [
      "2025-01-12\n",
      "2025-04-22\n",
      "Tuesday\n"
     ]
    }
   ],
   "source": [
    "import datetime as dt\n",
    "print(dt.date.today())\n",
    "print(dt.date.today()+dt.timedelta(100))\n",
    "print(dt.date(2025,1,14).strftime('%A'))"
   ]
  },
  {
   "cell_type": "markdown",
   "id": "50fd6ff2",
   "metadata": {},
   "source": [
    "\n",
    "### Assignment 10: Working with the `random` Module\n",
    "\n",
    "Use the `random` module to generate a list of 5 random numbers between 1 and 50 and shuffle the elements of a list.\n"
   ]
  },
  {
   "cell_type": "code",
   "execution_count": 29,
   "id": "652c78e3",
   "metadata": {},
   "outputs": [
    {
     "name": "stdout",
     "output_type": "stream",
     "text": [
      "[48, 11, 34, 44, 42]\n",
      "[42, 34, 48, 11, 44]\n"
     ]
    }
   ],
   "source": [
    "import random\n",
    "l=[random.randint(1,50) for _ in range(5)]\n",
    "print(l)\n",
    "random.shuffle(l)\n",
    "print(l)"
   ]
  },
  {
   "cell_type": "markdown",
   "id": "ecbf7635",
   "metadata": {},
   "source": [
    "\n",
    "## Lesson 5.3: Creating and Using Packages\n",
    "### Assignment 11: Creating a Simple Package\n",
    "\n",
    "Create a package named `mypackage` with two modules: `module1` and `module2`. `module1` should contain a function that adds two numbers, and `module2` should contain a function that multiplies two numbers. Write code to use these functions.\n"
   ]
  },
  {
   "cell_type": "code",
   "execution_count": 1,
   "id": "a855f4db",
   "metadata": {},
   "outputs": [
    {
     "name": "stdout",
     "output_type": "stream",
     "text": [
      "5\n",
      "6\n"
     ]
    }
   ],
   "source": [
    "from mypackage import module1, module2\n",
    "\n",
    "print(module1.add(2, 3)) \n",
    "print(module2.multiply(2, 3)) "
   ]
  },
  {
   "cell_type": "markdown",
   "id": "53ee73f6",
   "metadata": {},
   "source": [
    "\n",
    "### Assignment 12: Using `__init__.py`\n",
    "\n",
    "Modify the `mypackage` package to include an `__init__.py` file that imports the functions from `module1` and `module2`. Write code to use these functions.\n"
   ]
  },
  {
   "cell_type": "code",
   "execution_count": null,
   "id": "0f9d6c66",
   "metadata": {},
   "outputs": [],
   "source": [
    "from mypackage import add, multiply\n",
    "\n",
    "print(add(2, 3))  \n",
    "print(multiply(2, 3)) "
   ]
  },
  {
   "cell_type": "markdown",
   "id": "b78124c0",
   "metadata": {},
   "source": [
    "\n",
    "### Assignment 13: Importing from a Package\n",
    "\n",
    "Write code to import and use the functions from `mypackage` without explicitly importing `module1` and `module2`.\n"
   ]
  },
  {
   "cell_type": "code",
   "execution_count": null,
   "id": "a940da50",
   "metadata": {},
   "outputs": [],
   "source": [
    "from mypackage import add, multiply\n",
    "\n",
    "print(add(2, 3))  \n",
    "print(multiply(2, 3))  "
   ]
  },
  {
   "cell_type": "markdown",
   "id": "c3703f34",
   "metadata": {},
   "source": [
    "\n",
    "### Assignment 14: Relative Imports\n",
    "\n",
    "Create a subpackage named `subpackage` within `mypackage` and move `module2` into `subpackage`. Modify the import statements in `__init__.py` to use relative imports. Write code to use the functions from both modules.\n"
   ]
  },
  {
   "cell_type": "code",
   "execution_count": null,
   "id": "fe3274f4",
   "metadata": {},
   "outputs": [],
   "source": [
    "from mypackage import add, multiply\n",
    "\n",
    "print(add(2, 3))  \n",
    "print(multiply(2, 3))  "
   ]
  },
  {
   "cell_type": "markdown",
   "id": "6ce1fe5e",
   "metadata": {},
   "source": [
    "\n",
    "### Assignment 15: Handling Package Import Errors\n",
    "\n",
    "Write code that attempts to import a non-existent function from `mypackage` and gracefully handles the import error by printing an error message."
   ]
  },
  {
   "cell_type": "code",
   "execution_count": 6,
   "metadata": {},
   "outputs": [
    {
     "name": "stdout",
     "output_type": "stream",
     "text": [
      "Error importing function: cannot import name 'non_existent_function' from 'mypackage' (d:\\AI\\Assignments\\5.Modules and Packages\\mypackage\\__init__.py)\n"
     ]
    }
   ],
   "source": [
    "try:\n",
    "    from mypackage import non_existent_function\n",
    "except ImportError as e:\n",
    "    print(f\"Error importing function: {e}\")"
   ]
  },
  {
   "cell_type": "code",
   "execution_count": null,
   "id": "6a203522",
   "metadata": {},
   "outputs": [],
   "source": []
  }
 ],
 "metadata": {
  "kernelspec": {
   "display_name": "base",
   "language": "python",
   "name": "python3"
  },
  "language_info": {
   "codemirror_mode": {
    "name": "ipython",
    "version": 3
   },
   "file_extension": ".py",
   "mimetype": "text/x-python",
   "name": "python",
   "nbconvert_exporter": "python",
   "pygments_lexer": "ipython3",
   "version": "3.12.4"
  }
 },
 "nbformat": 4,
 "nbformat_minor": 5
}
