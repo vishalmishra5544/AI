{
 "cells": [
  {
   "cell_type": "markdown",
   "metadata": {},
   "source": [
    "# Module 3: Data Structures Assignments\n",
    "## Lesson 3.1: Lists"
   ]
  },
  {
   "cell_type": "markdown",
   "id": "aebcda8e",
   "metadata": {},
   "source": [
    "### Assignment 1: Creating and Accessing Lists\n",
    "\n",
    "Create a list of the first 20 positive integers. Print the list.\n",
    "\n",
    "### Assignment 2: Accessing List Elements\n",
    "\n",
    "Print the first, middle, and last elements of the list created in Assignment 1.\n",
    "\n",
    "### Assignment 3: List Slicing\n",
    "\n",
    "Print the first five elements, the last five elements, and the elements from index 5 to 15 of the list created in Assignment 1."
   ]
  },
  {
   "cell_type": "code",
   "execution_count": 9,
   "metadata": {},
   "outputs": [
    {
     "name": "stdout",
     "output_type": "stream",
     "text": [
      "[1, 2, 3, 4, 5, 6, 7, 8, 9, 10, 11, 12, 13, 14, 15, 16, 17, 18, 19, 20]\n",
      "1 11 20\n",
      "2 3 4 5 6 \n",
      "\n",
      "20 19 18 17 16 \n",
      "\n",
      "16 15 14 13 12 11 10 9 8 7 6 "
     ]
    }
   ],
   "source": [
    "pos_num_list=[num for num in range(1,21)]\n",
    "print(pos_num_list)\n",
    "\n",
    "print(pos_num_list[0],pos_num_list[int(len(pos_num_list)/2)],pos_num_list[len(pos_num_list)-1])\n",
    "\n",
    "for x in range(1,6):\n",
    "  print(pos_num_list[x],end=\" \") \n",
    "print(\"\\n\")\n",
    "for x in range(1,6):\n",
    "  print(pos_num_list[len(pos_num_list)-x],end=\" \")\n",
    "print(\"\\n\")\n",
    "for x in range(5,16):\n",
    "  print(pos_num_list[len(pos_num_list)-x],end=\" \") "
   ]
  },
  {
   "cell_type": "markdown",
   "id": "59e07de7",
   "metadata": {},
   "source": [
    "### Assignment 4: List Comprehensions\n",
    "\n",
    "Create a new list containing the squares of the first 10 positive integers using a list comprehension. Print the new list.\n",
    "\n",
    "### Assignment 5: Filtering Lists\n",
    "\n",
    "Create a new list containing only the even numbers from the list created in Assignment 1 using a list comprehension. Print the new list.\n",
    "\n",
    "### Assignment 6: List Methods\n",
    "\n",
    "Create a list of random numbers and sort it in ascending and descending order. Remove the duplicates from the list and print the modified list."
   ]
  },
  {
   "cell_type": "code",
   "execution_count": 21,
   "id": "2a2da3c8",
   "metadata": {},
   "outputs": [
    {
     "name": "stdout",
     "output_type": "stream",
     "text": [
      "[1, 4, 9, 16, 25, 36, 49, 64, 81, 100]\n",
      "[2, 4, 6, 8, 10, 12, 14, 16, 18, 20]\n",
      "[3, 7, 3, 5, 7, 8, 7, 7, 8]\n",
      "[3, 3, 5, 7, 7, 7, 7, 8, 8]\n",
      "[8, 8, 7, 7, 7, 7, 5, 3, 3]\n",
      "[{8, 3, 5, 7}]\n"
     ]
    }
   ],
   "source": [
    "import random,math\n",
    "list_of_squares = [num*num for num in range(1,11)]\n",
    "print(list_of_squares) \n",
    "\n",
    "even_num_list = [num for num in pos_num_list if num&1==0]\n",
    "print(even_num_list)\n",
    "\n",
    "list_of_random_num = [math.floor(random.random()*10)+1 for i in range(1,10)]\n",
    "print(list_of_random_num)\n",
    "list_of_random_num.sort() \n",
    "print(list_of_random_num) \n",
    "list_of_random_num.sort(reverse=True) \n",
    "print(list_of_random_num) \n",
    "unique_list = [set(list_of_random_num)]\n",
    "print(unique_list)"
   ]
  },
  {
   "cell_type": "markdown",
   "id": "4e9260ec",
   "metadata": {},
   "source": [
    "### Assignment 7: Nested Lists\n",
    "\n",
    "Create a nested list representing a 3x3 matrix and print the matrix. Access and print the element at the second row and third column.\n"
   ]
  },
  {
   "cell_type": "code",
   "execution_count": 15,
   "id": "b03da925",
   "metadata": {},
   "outputs": [
    {
     "name": "stdout",
     "output_type": "stream",
     "text": [
      "[[1, 2, 3], [4, 5, 6], [7, 8, 9]]\n",
      "6\n"
     ]
    }
   ],
   "source": [
    "matrix = [[1,2,3],[4,5,6],[7,8,9]]\n",
    "print(matrix)\n",
    "\n",
    "print(matrix[1][2])"
   ]
  },
  {
   "cell_type": "markdown",
   "id": "cface206",
   "metadata": {},
   "source": [
    "### Assignment 8: List of Dictionaries\n",
    "\n",
    "Create a list of dictionaries where each dictionary represents a student with keys 'name' and 'score'. Sort the list of dictionaries by the 'score' in descending order and print the sorted list.\n"
   ]
  },
  {
   "cell_type": "code",
   "execution_count": 22,
   "id": "83016287",
   "metadata": {},
   "outputs": [
    {
     "name": "stdout",
     "output_type": "stream",
     "text": [
      "[{'name': 'ram', 'score': 99}, {'name': 'vishal', 'score': 98}, {'name': 'sita', 'score': 88}, {'name': 'bharat', 'score': 58}]\n"
     ]
    }
   ],
   "source": [
    "list_of_dict = [{'name':'vishal','score':98},{'name':'ram','score':99},{'name':'sita','score':88},{'name':'bharat','score':58}]\n",
    "sorted_by_score = sorted(list_of_dict,key=lambda x:x['score'],reverse=True)\n",
    "print(sorted_by_score)"
   ]
  },
  {
   "cell_type": "markdown",
   "id": "f1e17f06",
   "metadata": {},
   "source": [
    "### Assignment 9: Matrix Transposition\n",
    "\n",
    "Write a function that takes a 3x3 matrix (nested list) as input and returns its transpose. Print the original and transposed matrices.\n"
   ]
  },
  {
   "cell_type": "code",
   "execution_count": 38,
   "id": "9e988829",
   "metadata": {},
   "outputs": [
    {
     "name": "stdout",
     "output_type": "stream",
     "text": [
      "[[1, 4, 7], [2, 5, 8], [3, 6, 9]]\n",
      "[[1, 4, 7], [2, 5, 8], [3, 6, 9], [4, 7, 10]]\n"
     ]
    }
   ],
   "source": [
    "def square_matrix_transpose(matrix):\n",
    "    for i in range(0,len(matrix)):\n",
    "        for j in range(i+1,len(matrix)):\n",
    "            matrix[i][j],matrix[j][i]=matrix[j][i],matrix[i][j]\n",
    "    return matrix\n",
    "\n",
    "def general_matrix_transpose(matrix):\n",
    "    transpose_matrix = [[matrix[j][i] for j in range(len(matrix))] for i in range(len(matrix[0]))]\n",
    "    return transpose_matrix\n",
    "matrix = [[1,2,3],[4,5,6],[7,8,9]]\n",
    "print(square_matrix_transpose(matrix))\n",
    "matrix= [[1,2,3,4],[4,5,6,7],[7,8,9,10]]\n",
    "print(general_matrix_transpose(matrix))"
   ]
  },
  {
   "cell_type": "markdown",
   "id": "5a5b4877",
   "metadata": {},
   "source": [
    "### Assignment 10: Flattening a Nested List\n",
    "\n",
    "Write a function that takes a nested list and flattens it into a single list. Print the original and flattened lists.\n"
   ]
  },
  {
   "cell_type": "code",
   "execution_count": 40,
   "id": "cb43a82b",
   "metadata": {},
   "outputs": [
    {
     "name": "stdout",
     "output_type": "stream",
     "text": [
      "[[1, 2, 3, 4], [4, 5, 6, 7], [7, 8, 9, 10]]\n",
      "[1, 2, 3, 4, 4, 5, 6, 7, 7, 8, 9, 10]\n"
     ]
    }
   ],
   "source": [
    "matrix= [[1,2,3,4],[4,5,6,7],[7,8,9,10]]\n",
    "print(matrix)\n",
    "flatten_list = [matrix[i][j] for i in range(len(matrix)) for j in range(len(matrix[0]))]\n",
    "print(flatten_list)"
   ]
  },
  {
   "cell_type": "markdown",
   "id": "b0a9da59",
   "metadata": {},
   "source": [
    "### Assignment 11: List Manipulation\n",
    "\n",
    "Create a list of the first 10 positive integers. Remove the elements at indices 2, 4, and 6, and insert the element '99' at index 5. Print the modified list.\n"
   ]
  },
  {
   "cell_type": "code",
   "execution_count": 43,
   "id": "4c337683",
   "metadata": {},
   "outputs": [
    {
     "name": "stdout",
     "output_type": "stream",
     "text": [
      "[1, 2, 4, 5, 7, 99, 8, 10]\n"
     ]
    }
   ],
   "source": [
    "pos_num_list = [x for x in range(1,11)]\n",
    "del pos_num_list[2]\n",
    "del pos_num_list[4]\n",
    "del pos_num_list[6]\n",
    "pos_num_list.insert(5,99)\n",
    "print(pos_num_list)"
   ]
  },
  {
   "cell_type": "markdown",
   "id": "d958d503",
   "metadata": {},
   "source": [
    "### Assignment 12: List Zipping\n",
    "\n",
    "Create two lists of the same length. Use the `zip` function to combine these lists into a list of tuples and print the result."
   ]
  },
  {
   "cell_type": "code",
   "execution_count": 46,
   "id": "a0c3491a",
   "metadata": {},
   "outputs": [
    {
     "name": "stdout",
     "output_type": "stream",
     "text": [
      "[(1, 11), (2, 12), (3, 13), (4, 14), (5, 15), (6, 16), (7, 17)]\n"
     ]
    }
   ],
   "source": [
    "l1=[1,2,3,4,5,6,7,8,9]\n",
    "l2=[11,12,13,14,15,16,17]\n",
    "list_of_tuples = [(i,j) for i,j in zip(l1,l2)]\n",
    "print(list_of_tuples)"
   ]
  },
  {
   "cell_type": "markdown",
   "id": "fb6a17de",
   "metadata": {},
   "source": [
    "### Assignment 13: List Reversal\n",
    "\n",
    "Write a function that takes a list and returns a new list with the elements in reverse order. Print the original and reversed lists."
   ]
  },
  {
   "cell_type": "code",
   "execution_count": 49,
   "id": "79bfea75",
   "metadata": {},
   "outputs": [
    {
     "name": "stdout",
     "output_type": "stream",
     "text": [
      "[1, 2, 3, 45]\n",
      "[45, 3, 2, 1]\n"
     ]
    }
   ],
   "source": [
    "def rev_list(li):\n",
    "    return li[::-1]\n",
    "\n",
    "li=[1,2,3,45]\n",
    "print(li)\n",
    "print(rev_list(li))\n"
   ]
  },
  {
   "cell_type": "markdown",
   "id": "2e71275f",
   "metadata": {},
   "source": [
    "### Assignment 14: List Rotation\n",
    "\n",
    "Write a function that rotates a list by n positions. Print the original and rotated lists."
   ]
  },
  {
   "cell_type": "code",
   "execution_count": 57,
   "id": "d1999360",
   "metadata": {},
   "outputs": [
    {
     "name": "stdout",
     "output_type": "stream",
     "text": [
      "[2, 1, 3, 4, 5]\n",
      "[2, 1, 5, 4, 3]\n",
      "[3, 4, 5, 1, 2]\n",
      "[3, 4, 5, 1, 2]\n"
     ]
    }
   ],
   "source": [
    "def rotate(li,n):\n",
    "    reverse(li,0,n-1)\n",
    "    print(li)\n",
    "    reverse(li,n,len(li)-1)\n",
    "    print(li)\n",
    "    reverse(li,0,len(li)-1)\n",
    "    print(li)\n",
    "    return li\n",
    "def reverse(li,start,end):\n",
    "    while(start<=end):\n",
    "        li[start],li[end]=li[end],li[start]\n",
    "        start+=1\n",
    "        end-=1\n",
    "    return\n",
    "li=[1,2,3,4,5]\n",
    "print(rotate(li,2))"
   ]
  },
  {
   "cell_type": "markdown",
   "id": "1b7a2ef2",
   "metadata": {},
   "source": [
    "### Assignment 15: List Intersection\n",
    "\n",
    "Write a function that takes two lists and returns a new list containing only the elements that are present in both lists. Print the intersected list."
   ]
  },
  {
   "cell_type": "code",
   "execution_count": 61,
   "id": "59652d78",
   "metadata": {},
   "outputs": [
    {
     "data": {
      "text/plain": [
       "[3, 4, 5]"
      ]
     },
     "execution_count": 61,
     "metadata": {},
     "output_type": "execute_result"
    }
   ],
   "source": [
    "def get_intersection(li1,li2):\n",
    "    return [ele for ele in li1 if ele in li2]\n",
    "li1=[1,2,3,4,5]\n",
    "li2=[11,12,3,4,5,8]\n",
    "get_intersection(li1,li2)"
   ]
  },
  {
   "cell_type": "code",
   "execution_count": null,
   "id": "7aa1e552",
   "metadata": {},
   "outputs": [],
   "source": []
  }
 ],
 "metadata": {
  "kernelspec": {
   "display_name": "Python 3",
   "language": "python",
   "name": "python3"
  },
  "language_info": {
   "codemirror_mode": {
    "name": "ipython",
    "version": 3
   },
   "file_extension": ".py",
   "mimetype": "text/x-python",
   "name": "python",
   "nbconvert_exporter": "python",
   "pygments_lexer": "ipython3",
   "version": "3.12.4"
  }
 },
 "nbformat": 4,
 "nbformat_minor": 5
}
