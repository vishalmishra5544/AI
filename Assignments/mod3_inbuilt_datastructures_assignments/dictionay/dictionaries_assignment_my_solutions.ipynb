{
 "cells": [
  {
   "cell_type": "markdown",
   "metadata": {},
   "source": [
    "# Module 3: Data Structures Assignments\n",
    "## Lesson 3.4: Dictionaries\n",
    "### Assignment 1: Creating and Accessing Dictionaries\n",
    "\n",
    "Create a dictionary with the first 10 positive integers as keys and their squares as values. Print the dictionary.\n",
    "\n",
    "### Assignment 2: Accessing Dictionary Elements\n",
    "\n",
    "Print the value of the key 5 and the keys of the dictionary created in Assignment 1.\n",
    "\n",
    "### Assignment 3: Dictionary Methods\n",
    "\n",
    "Add a new key-value pair (11, 121) to the dictionary created in Assignment 1 and then remove the key-value pair with key 1. Print the modified dictionary.\n",
    "\n",
    "### Assignment 4: Iterating Over Dictionaries\n",
    "\n",
    "Iterate over the dictionary created in Assignment 1 and print each key-value pair.\n"
   ]
  },
  {
   "cell_type": "code",
   "execution_count": 8,
   "metadata": {},
   "outputs": [
    {
     "name": "stdout",
     "output_type": "stream",
     "text": [
      "{1: 1, 2: 4, 3: 9, 4: 16, 5: 25, 6: 36, 7: 49, 8: 64, 9: 81, 10: 100}\n",
      "25\n",
      "dict_keys([1, 2, 3, 4, 5, 6, 7, 8, 9, 10])\n",
      "{2: 4, 3: 9, 4: 16, 5: 25, 6: 36, 7: 49, 8: 64, 9: 81, 10: 100, 11: 121}\n",
      "2 4\n",
      "3 9\n",
      "4 16\n",
      "5 25\n",
      "6 36\n",
      "7 49\n",
      "8 64\n",
      "9 81\n",
      "10 100\n",
      "11 121\n"
     ]
    }
   ],
   "source": [
    "d ={x:x*x for x in range(1,11)}\n",
    "print(d)\n",
    "print(d[5])\n",
    "print(d.keys())\n",
    "d[11]=121\n",
    "d.pop(1)\n",
    "print(d)\n",
    "for k,v in d.items():\n",
    "    print(k,v)"
   ]
  },
  {
   "cell_type": "markdown",
   "id": "aaef9755",
   "metadata": {},
   "source": [
    "\n",
    "### Assignment 5: Dictionary Comprehensions\n",
    "\n",
    "Create a new dictionary containing the cubes of the first 10 positive integers using a dictionary comprehension. Print the new dictionary."
   ]
  },
  {
   "cell_type": "code",
   "execution_count": 9,
   "id": "28fd52dc",
   "metadata": {},
   "outputs": [
    {
     "name": "stdout",
     "output_type": "stream",
     "text": [
      "{1: 1, 2: 8, 3: 27, 4: 64, 5: 125, 6: 216, 7: 343, 8: 512, 9: 729, 10: 1000}\n"
     ]
    }
   ],
   "source": [
    "d = {x:x**3 for x in range(1,11)}\n",
    "print(d)"
   ]
  },
  {
   "cell_type": "markdown",
   "id": "883bec87",
   "metadata": {},
   "source": [
    "\n",
    "\n",
    "### Assignment 6: Merging Dictionaries\n",
    "\n",
    "Create two dictionaries: one with keys as the first 5 positive integers and values as their squares, and another with keys as the next 5 positive integers and values as their squares. Merge these dictionaries into a single dictionary and print it.\n"
   ]
  },
  {
   "cell_type": "code",
   "execution_count": 14,
   "id": "5c115688",
   "metadata": {},
   "outputs": [
    {
     "name": "stdout",
     "output_type": "stream",
     "text": [
      "{1: 1, 2: 4, 3: 9, 4: 16, 5: 25, 6: 36, 7: 49, 8: 64, 9: 81, 10: 100}\n"
     ]
    }
   ],
   "source": [
    "d1 = { x:x*x for x in range(1,6)}\n",
    "d2= {x:x*x for x in range(6,11)}\n",
    "d1.update(d2)\n",
    "print(d1)"
   ]
  },
  {
   "cell_type": "markdown",
   "id": "63a3f22e",
   "metadata": {},
   "source": [
    "\n",
    "### Assignment 7: Nested Dictionaries\n",
    "\n",
    "Create a nested dictionary representing a student with keys 'name', 'age', 'grades', where 'grades' is another dictionary with keys 'math', 'science', and 'english'. Print the nested dictionary.\n",
    "\n"
   ]
  },
  {
   "cell_type": "code",
   "execution_count": 15,
   "id": "d89001de",
   "metadata": {},
   "outputs": [
    {
     "name": "stdout",
     "output_type": "stream",
     "text": [
      "{'name': 'vishal', 'age': 23, 'grades': {'math': 'A', 'science': 'A+', 'english': 'A'}}\n"
     ]
    }
   ],
   "source": [
    "nested_d = {\n",
    "    'name':'vishal',\n",
    "    'age':23,\n",
    "    'grades':{\n",
    "        'math':'A',\n",
    "        'science':'A+',\n",
    "        'english':'A'\n",
    "    }\n",
    "}\n",
    "print(nested_d)"
   ]
  },
  {
   "cell_type": "markdown",
   "id": "cff233b4",
   "metadata": {},
   "source": [
    "### Assignment 8: Dictionary of Lists\n",
    "\n",
    "Create a dictionary where the keys are the first 5 positive integers and the values are lists containing the first 5 multiples of the key. Print the dictionary.\n",
    "\n"
   ]
  },
  {
   "cell_type": "code",
   "execution_count": 16,
   "id": "c74d3b64",
   "metadata": {},
   "outputs": [
    {
     "name": "stdout",
     "output_type": "stream",
     "text": [
      "{1: [1, 2, 3, 4, 5], 2: [2, 4, 6, 8, 10], 3: [3, 6, 9, 12, 15], 4: [4, 8, 12, 16, 20], 5: [5, 10, 15, 20, 25]}\n"
     ]
    }
   ],
   "source": [
    "d = { x:[x*i for i in range(1,6) ] for x in range(1,6)}\n",
    "print(d)"
   ]
  },
  {
   "cell_type": "markdown",
   "id": "e8d2ee5b",
   "metadata": {},
   "source": [
    "### Assignment 9: Dictionary of Tuples\n",
    "\n",
    "Create a dictionary where the keys are the first 5 positive integers and the values are tuples containing the key and its square. Print the dictionary.\n"
   ]
  },
  {
   "cell_type": "code",
   "execution_count": 17,
   "id": "cc9b5619",
   "metadata": {},
   "outputs": [
    {
     "name": "stdout",
     "output_type": "stream",
     "text": [
      "{1: (1, 1), 2: (2, 4), 3: (3, 9), 4: (4, 16), 5: (5, 25)}\n"
     ]
    }
   ],
   "source": [
    "d = { x:(x,x*x) for x in range(1,6)}\n",
    "print(d)"
   ]
  },
  {
   "cell_type": "markdown",
   "id": "f0d78be0",
   "metadata": {},
   "source": [
    "\n",
    "### Assignment 10: Dictionary and List Conversion\n",
    "\n",
    "Create a dictionary with the first 5 positive integers as keys and their squares as values. Convert the dictionary to a list of tuples and print it.\n"
   ]
  },
  {
   "cell_type": "code",
   "execution_count": 19,
   "id": "fb922423",
   "metadata": {},
   "outputs": [
    {
     "name": "stdout",
     "output_type": "stream",
     "text": [
      "[(1, 1), (2, 4), (3, 9), (4, 16), (5, 25)]\n"
     ]
    }
   ],
   "source": [
    "d = {x:x*x for x in range(1,6)}\n",
    "l = [(k,v) for k,v in d.items()]\n",
    "print(l)"
   ]
  },
  {
   "cell_type": "markdown",
   "id": "4f7b9740",
   "metadata": {},
   "source": [
    "\n",
    "### Assignment 11: Dictionary Filtering\n",
    "\n",
    "Create a dictionary with the first 10 positive integers as keys and their squares as values. Create a new dictionary containing only the key-value pairs where the key is even. Print the new dictionary.\n"
   ]
  },
  {
   "cell_type": "code",
   "execution_count": 22,
   "id": "a1919863",
   "metadata": {},
   "outputs": [
    {
     "name": "stdout",
     "output_type": "stream",
     "text": [
      "{2: 4, 4: 16, 6: 36, 8: 64, 10: 100}\n"
     ]
    }
   ],
   "source": [
    "d = { x:x*x for x in range(1,11)}\n",
    "d_even = {k:v for k,v in d.items() if k%2==0}\n",
    "print(d_even)"
   ]
  },
  {
   "cell_type": "markdown",
   "id": "144b0d41",
   "metadata": {},
   "source": [
    "\n",
    "### Assignment 12: Dictionary Key and Value Transformation\n",
    "\n",
    "Create a dictionary with the first 5 positive integers as keys and their squares as values. Create a new dictionary with keys and values swapped. Print the new dictionary.\n"
   ]
  },
  {
   "cell_type": "code",
   "execution_count": 23,
   "id": "7a95ef34",
   "metadata": {},
   "outputs": [
    {
     "name": "stdout",
     "output_type": "stream",
     "text": [
      "{1: 1, 4: 2, 9: 3, 16: 4, 25: 5}\n"
     ]
    }
   ],
   "source": [
    "d = {x:x*x for x in range(1,6)}\n",
    "d_swapped = {v:k for k,v in d.items()}\n",
    "print(d_swapped)"
   ]
  },
  {
   "cell_type": "markdown",
   "id": "b5990ca6",
   "metadata": {},
   "source": [
    "\n",
    "### Assignment 13: Default Dictionary\n",
    "\n",
    "Create a default dictionary where each key has a default value of an empty list. Add some elements to the lists and print the dictionary.\n",
    "\n"
   ]
  },
  {
   "cell_type": "code",
   "execution_count": 25,
   "id": "d8144ddb",
   "metadata": {},
   "outputs": [
    {
     "name": "stdout",
     "output_type": "stream",
     "text": [
      "{1: [1, 1, 1], 2: [2, 4, 8], 3: [3, 9, 27], 4: [4, 16, 64], 5: [5, 25, 125]}\n"
     ]
    }
   ],
   "source": [
    "d={x:[] for x in range(1,6)}\n",
    "for ele in d:\n",
    "    d[ele].append(ele)\n",
    "    d[ele].append(ele*ele)\n",
    "    d[ele].append(ele**3)\n",
    "print(d)"
   ]
  },
  {
   "cell_type": "markdown",
   "id": "0fa51acc",
   "metadata": {},
   "source": [
    "### Assignment 14: Counting with Dictionaries\n",
    "\n",
    "Write a function that takes a string and returns a dictionary with the count of each character in the string. Print the dictionary.\n",
    "\n"
   ]
  },
  {
   "cell_type": "code",
   "execution_count": 29,
   "id": "158b5e14",
   "metadata": {},
   "outputs": [
    {
     "name": "stdout",
     "output_type": "stream",
     "text": [
      "{'a': 3, 'b': 2, 's': 2, 'i': 1, 'e': 2, 'c': 1}\n"
     ]
    }
   ],
   "source": [
    "def get_count(s:str)->dict:\n",
    "    d={}\n",
    "    for ele in s:\n",
    "        d[ele] = d.get(ele,0)+1\n",
    "    return d\n",
    "print(get_count(\"abaabsiesec\"))"
   ]
  },
  {
   "cell_type": "markdown",
   "id": "afeb7208",
   "metadata": {},
   "source": [
    "### Assignment 15: Dictionary and JSON\n",
    "\n",
    "Create a dictionary representing a book with keys 'title', 'author', 'year', and 'genre'. Convert the dictionary to a JSON string and print it."
   ]
  },
  {
   "cell_type": "code",
   "execution_count": 31,
   "id": "9775b300",
   "metadata": {},
   "outputs": [
    {
     "name": "stdout",
     "output_type": "stream",
     "text": [
      "{\"title\": \"abc\", \"author\": \"xyz\", \"year\": 1992, \"genre\": \"comic\"}\n"
     ]
    }
   ],
   "source": [
    "import json\n",
    "book={\n",
    "    'title':'abc',\n",
    "    'author':'xyz',\n",
    "    'year':1992,\n",
    "    'genre':'comic'\n",
    "}\n",
    "s = json.dumps(book)\n",
    "print(s)"
   ]
  }
 ],
 "metadata": {
  "kernelspec": {
   "display_name": "base",
   "language": "python",
   "name": "python3"
  },
  "language_info": {
   "codemirror_mode": {
    "name": "ipython",
    "version": 3
   },
   "file_extension": ".py",
   "mimetype": "text/x-python",
   "name": "python",
   "nbconvert_exporter": "python",
   "pygments_lexer": "ipython3",
   "version": "3.12.4"
  }
 },
 "nbformat": 4,
 "nbformat_minor": 5
}
