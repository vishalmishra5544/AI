{
 "cells": [
  {
   "cell_type": "markdown",
   "metadata": {},
   "source": [
    "# Module 2: Control Flow Assignments\n",
    "## Lesson 2.1: Conditional Statements\n",
    "\n",
    "## Lesson 2.2: Loops"
   ]
  },
  {
   "cell_type": "markdown",
   "id": "9c88f266",
   "metadata": {},
   "source": [
    "### Assignment 1: Simple if Statement\n",
    "\n",
    "Write a program that asks the user to input a number and prints whether the number is positive.\n",
    "\n",
    "### Assignment 2: if-else Statement\n",
    "\n",
    "Write a program that asks the user to input a number and prints whether the number is positive or negative.\n",
    "\n",
    "\n",
    "### Assignment 3: if-elif-else Statement\n",
    "\n",
    "Write a program that asks the user to input a number and prints whether the number is positive, negative, or zero.\n",
    "\n"
   ]
  },
  {
   "cell_type": "code",
   "execution_count": 1,
   "metadata": {},
   "outputs": [
    {
     "name": "stdout",
     "output_type": "stream",
     "text": [
      "positive\n"
     ]
    }
   ],
   "source": [
    "inp = int(input('enter a num'))\n",
    "if(inp>0):\n",
    "    print('positive')\n",
    "elif(inp==0):\n",
    "    print('zero')\n",
    "else:\n",
    "    print('negative')\n",
    "\n"
   ]
  },
  {
   "cell_type": "markdown",
   "id": "ae05faa9",
   "metadata": {},
   "source": [
    "\n",
    "### Assignment 4: Nested if Statement\n",
    "\n",
    "Write a program that asks the user to input a number and prints whether the number is positive and even, positive and odd, or negative."
   ]
  },
  {
   "cell_type": "code",
   "execution_count": 3,
   "id": "9162e6fc",
   "metadata": {},
   "outputs": [
    {
     "name": "stdout",
     "output_type": "stream",
     "text": [
      "positive and odd\n"
     ]
    }
   ],
   "source": [
    "inp = int(input('enter a num'))\n",
    "if(inp==0):\n",
    "    print('zero')\n",
    "elif(inp>0):\n",
    "    if(inp &1==0):\n",
    "      print('positive and even')\n",
    "    else:\n",
    "       print('positive and odd')\n",
    "else:\n",
    "   print('negative')"
   ]
  },
  {
   "cell_type": "markdown",
   "id": "b65f3469",
   "metadata": {},
   "source": [
    "### Assignment 5: for Loop\n",
    "\n",
    "Write a program that prints all the numbers from 1 to 10 using a for loop.\n",
    "\n",
    "### Assignment 6: while Loop\n",
    "\n",
    "Write a program that prints all the numbers from 1 to 10 using a while loop.\n"
   ]
  },
  {
   "cell_type": "code",
   "execution_count": 9,
   "id": "452aa1a2",
   "metadata": {},
   "outputs": [
    {
     "name": "stdout",
     "output_type": "stream",
     "text": [
      "0 * 1 * 2 * 3 * 4 * 5 * 6 * 7 * 8 * 9 * \n",
      "\n",
      "10 9 8 7 6 5 4 3 2 1 0 "
     ]
    }
   ],
   "source": [
    "for i in range(0,10,1):\n",
    "    print(i,end=\" * \")\n",
    "\n",
    "print(\"\\n\")\n",
    "i=10\n",
    "while(i>=0):\n",
    "    print(i,end=\" \")\n",
    "    i-=1"
   ]
  },
  {
   "cell_type": "markdown",
   "id": "3a89227a",
   "metadata": {},
   "source": [
    "### Assignment 7: Nested Loops\n",
    "\n",
    "Write a program that prints a 5x5 grid of asterisks (*) using nested loops.\n"
   ]
  },
  {
   "cell_type": "code",
   "execution_count": 12,
   "id": "514ba69e",
   "metadata": {},
   "outputs": [
    {
     "name": "stdout",
     "output_type": "stream",
     "text": [
      "*  *  *  *  *  \n",
      "\n",
      "*  *  *  *  *  \n",
      "\n",
      "*  *  *  *  *  \n",
      "\n",
      "*  *  *  *  *  \n",
      "\n",
      "*  *  *  *  *  \n",
      "\n"
     ]
    }
   ],
   "source": [
    "row=5\n",
    "col=5\n",
    "for i in range(row):\n",
    "    for j in range(col):\n",
    "        print(\"* \",end=\" \")\n",
    "    print(\"\\n\")\n",
    "   "
   ]
  },
  {
   "cell_type": "markdown",
   "id": "703c11ba",
   "metadata": {},
   "source": [
    "### Assignment 8: break Statement\n",
    "\n",
    "Write a program that asks the user to input numbers until they input 0. The program should print the sum of all the input numbers.\n"
   ]
  },
  {
   "cell_type": "code",
   "execution_count": 14,
   "id": "9262112c",
   "metadata": {},
   "outputs": [
    {
     "name": "stdout",
     "output_type": "stream",
     "text": [
      "1 2 12 12 "
     ]
    }
   ],
   "source": [
    "sum=0\n",
    "while(True):\n",
    "    num = int(input('Enter a num'))\n",
    "    sum+=num\n",
    "    print(sum,end=\" \")\n",
    "    if(num==0):\n",
    "        break"
   ]
  },
  {
   "cell_type": "markdown",
   "id": "3545bb5a",
   "metadata": {},
   "source": [
    "### Assignment 9: continue Statement\n",
    "\n",
    "Write a program that prints all the numbers from 1 to 10 except 5 using a for loop and continue statement."
   ]
  },
  {
   "cell_type": "code",
   "execution_count": 16,
   "id": "5d1dfe07",
   "metadata": {},
   "outputs": [
    {
     "name": "stdout",
     "output_type": "stream",
     "text": [
      "1 2 3 4 6 7 8 9 10 "
     ]
    }
   ],
   "source": [
    "for i in range(1,11):\n",
    "    if i==5:\n",
    "        continue\n",
    "    print(i,end=\" \")"
   ]
  },
  {
   "cell_type": "markdown",
   "id": "ded83679",
   "metadata": {},
   "source": [
    "### Assignment 10: pass Statement\n",
    "\n",
    "Write a program that defines an empty function using the pass statement.\n"
   ]
  },
  {
   "cell_type": "code",
   "execution_count": 17,
   "id": "32d29553",
   "metadata": {},
   "outputs": [],
   "source": [
    "def empty_fun():\n",
    "    pass"
   ]
  },
  {
   "cell_type": "markdown",
   "id": "659734af",
   "metadata": {},
   "source": [
    "### Assignment 11: Combining Loops and Conditionals\n",
    "\n",
    "Write a program that asks the user to input a number and prints all the even numbers from 1 to that number using a for loop.\n"
   ]
  },
  {
   "cell_type": "code",
   "execution_count": 19,
   "id": "2acc639c",
   "metadata": {},
   "outputs": [
    {
     "name": "stdout",
     "output_type": "stream",
     "text": [
      "2 4 "
     ]
    }
   ],
   "source": [
    "inp = int(input('enter a num'))\n",
    "for i in range(1,inp):\n",
    "    if i&1==0:\n",
    "        print(i,end=\" \")"
   ]
  },
  {
   "cell_type": "markdown",
   "id": "b4b78aec",
   "metadata": {},
   "source": [
    "### Assignment 12: Factorial Calculation\n",
    "\n",
    "Write a program that calculates the factorial of a number input by the user using a while loop.\n"
   ]
  },
  {
   "cell_type": "code",
   "execution_count": 21,
   "id": "a8a5e5a1",
   "metadata": {},
   "outputs": [
    {
     "name": "stdout",
     "output_type": "stream",
     "text": [
      "factorial :  120\n"
     ]
    }
   ],
   "source": [
    "inp = int(input('enter a num'))\n",
    "fact=1\n",
    "while(inp>0):\n",
    "    fact*=inp\n",
    "    inp-=1\n",
    "print('factorial : ',fact)"
   ]
  },
  {
   "cell_type": "markdown",
   "id": "d1ca2dce",
   "metadata": {},
   "source": [
    "### Assignment 13: Sum of Digits\n",
    "\n",
    "Write a program that calculates the sum of the digits of a number input by the user using a while loop.\n"
   ]
  },
  {
   "cell_type": "code",
   "execution_count": 24,
   "id": "d069bea1",
   "metadata": {},
   "outputs": [
    {
     "name": "stdout",
     "output_type": "stream",
     "text": [
      "1\n"
     ]
    }
   ],
   "source": [
    "import math\n",
    "num=100\n",
    "sum=0\n",
    "while(num>0):\n",
    "    sum+=(num%10)\n",
    "    num=math.floor(num/10)\n",
    "print(sum)"
   ]
  },
  {
   "cell_type": "markdown",
   "id": "2f627db2",
   "metadata": {},
   "source": [
    "### Assignment 14: Prime Number Check\n",
    "\n",
    "Write a program that checks if a number input by the user is a prime number using a for loop.\n"
   ]
  },
  {
   "cell_type": "code",
   "execution_count": 27,
   "id": "a5e4187b",
   "metadata": {},
   "outputs": [
    {
     "name": "stdout",
     "output_type": "stream",
     "text": [
      "False\n"
     ]
    }
   ],
   "source": [
    "def is_prime(n):\n",
    "    i=2\n",
    "    while(i*i<=n):\n",
    "        if n%i==0:\n",
    "            return False\n",
    "        i+=1\n",
    "    return True\n",
    "num = int(input('enter a num'))\n",
    "print(is_prime(num))\n"
   ]
  },
  {
   "cell_type": "markdown",
   "id": "c018b8d4",
   "metadata": {},
   "source": [
    "### Assignment 15: Fibonacci Sequence\n",
    "\n",
    "Write a program that prints the first n Fibonacci numbers, where n is input by the user."
   ]
  },
  {
   "cell_type": "code",
   "execution_count": 30,
   "id": "83988074",
   "metadata": {},
   "outputs": [
    {
     "name": "stdout",
     "output_type": "stream",
     "text": [
      "1  1\n",
      "2 3 5 8 "
     ]
    }
   ],
   "source": [
    "n=int(input('enter a num'))\n",
    "if(n==1):\n",
    "   print(1)\n",
    "   pass\n",
    "elif(n==2):\n",
    "   print(\"1 1\")\n",
    "   pass\n",
    "\n",
    "first=1;second=1\n",
    "print(first,\"\",second)\n",
    "for i in range(n-2):   \n",
    "   next=second+first\n",
    "   print(next,end=\" \")\n",
    "   first=second\n",
    "   second=next\n",
    "\n"
   ]
  },
  {
   "cell_type": "code",
   "execution_count": null,
   "id": "19232cd3",
   "metadata": {},
   "outputs": [],
   "source": []
  }
 ],
 "metadata": {
  "kernelspec": {
   "display_name": "Python 3",
   "language": "python",
   "name": "python3"
  },
  "language_info": {
   "codemirror_mode": {
    "name": "ipython",
    "version": 3
   },
   "file_extension": ".py",
   "mimetype": "text/x-python",
   "name": "python",
   "nbconvert_exporter": "python",
   "pygments_lexer": "ipython3",
   "version": "3.12.4"
  }
 },
 "nbformat": 4,
 "nbformat_minor": 5
}
